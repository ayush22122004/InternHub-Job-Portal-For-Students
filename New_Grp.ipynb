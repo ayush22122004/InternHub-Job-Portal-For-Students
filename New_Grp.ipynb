{
 "cells": [
  {
   "cell_type": "code",
   "execution_count": 1,
   "metadata": {},
   "outputs": [
    {
     "name": "stdout",
     "output_type": "stream",
     "text": [
      "Welcome to Fitness Management System\n",
      "\n",
      "\n",
      "Welcome to sign up for your account\n",
      "Enter username\n",
      "Username must have a length of 8 char\n",
      "Enter password as per the validation\n",
      "\n",
      "Validation for password\n",
      "1 min 8 char\n",
      "2 at least one uppercase\n",
      "3 at least 1 digit\n",
      "4 at least 1 special char from !,#,_,@,$\n",
      "                \n",
      "pass must contain 8 letter\n",
      "\n",
      "Validation for password\n",
      "1 min 8 char\n",
      "2 at least one uppercase\n",
      "3 at least 1 digit\n",
      "4 at least 1 special char from !,#,_,@,$\n",
      "                \n",
      "Sign-up has been done successfully\n"
     ]
    },
    {
     "ename": "FileNotFoundError",
     "evalue": "[Errno 2] No such file or directory: 'user_credentials.txt'",
     "output_type": "error",
     "traceback": [
      "\u001b[1;31m---------------------------------------------------------------------------\u001b[0m",
      "\u001b[1;31mFileNotFoundError\u001b[0m                         Traceback (most recent call last)",
      "Cell \u001b[1;32mIn[1], line 40\u001b[0m\n\u001b[0;32m     36\u001b[0m     \u001b[38;5;28;01mreturn\u001b[39;00m \u001b[38;5;28;01mFalse\u001b[39;00m\n\u001b[0;32m     39\u001b[0m \u001b[38;5;28;01mif\u001b[39;00m \u001b[38;5;18m__name__\u001b[39m \u001b[38;5;241m==\u001b[39m \u001b[38;5;124m\"\u001b[39m\u001b[38;5;124m__main__\u001b[39m\u001b[38;5;124m\"\u001b[39m:\n\u001b[1;32m---> 40\u001b[0m     \u001b[43mmain\u001b[49m\u001b[43m(\u001b[49m\u001b[43m)\u001b[49m\n",
      "Cell \u001b[1;32mIn[1], line 13\u001b[0m, in \u001b[0;36mmain\u001b[1;34m()\u001b[0m\n\u001b[0;32m     10\u001b[0m u1, p1 \u001b[38;5;241m=\u001b[39m reg1\u001b[38;5;241m.\u001b[39msign_up()\n\u001b[0;32m     12\u001b[0m \u001b[38;5;66;03m# Check if the user already exists while signing up\u001b[39;00m\n\u001b[1;32m---> 13\u001b[0m \u001b[38;5;28;01mif\u001b[39;00m \u001b[43mcheck_credentials\u001b[49m\u001b[43m(\u001b[49m\u001b[43mu1\u001b[49m\u001b[43m,\u001b[49m\u001b[43m \u001b[49m\u001b[43mp1\u001b[49m\u001b[43m)\u001b[49m:\n\u001b[0;32m     14\u001b[0m     \u001b[38;5;28mprint\u001b[39m(\u001b[38;5;124m\"\u001b[39m\u001b[38;5;124mUser already exists. Please log in.\u001b[39m\u001b[38;5;124m\"\u001b[39m)\n\u001b[0;32m     15\u001b[0m \u001b[38;5;28;01melse\u001b[39;00m:\n\u001b[0;32m     16\u001b[0m     \u001b[38;5;66;03m# Write new user credentials to file\u001b[39;00m\n",
      "Cell \u001b[1;32mIn[1], line 32\u001b[0m, in \u001b[0;36mcheck_credentials\u001b[1;34m(username, password)\u001b[0m\n\u001b[0;32m     31\u001b[0m \u001b[38;5;28;01mdef\u001b[39;00m \u001b[38;5;21mcheck_credentials\u001b[39m(username, password):\n\u001b[1;32m---> 32\u001b[0m     \u001b[38;5;28;01mwith\u001b[39;00m \u001b[38;5;28;43mopen\u001b[39;49m\u001b[43m(\u001b[49m\u001b[38;5;124;43m\"\u001b[39;49m\u001b[38;5;124;43muser_credentials.txt\u001b[39;49m\u001b[38;5;124;43m\"\u001b[39;49m\u001b[43m,\u001b[49m\u001b[43m \u001b[49m\u001b[38;5;124;43m\"\u001b[39;49m\u001b[38;5;124;43mr\u001b[39;49m\u001b[38;5;124;43m\"\u001b[39;49m\u001b[43m)\u001b[49m \u001b[38;5;28;01mas\u001b[39;00m file:\n\u001b[0;32m     33\u001b[0m         \u001b[38;5;28;01mfor\u001b[39;00m line \u001b[38;5;129;01min\u001b[39;00m file:\n\u001b[0;32m     34\u001b[0m             \u001b[38;5;28;01mif\u001b[39;00m line\u001b[38;5;241m.\u001b[39mstrip() \u001b[38;5;241m==\u001b[39m \u001b[38;5;124mf\u001b[39m\u001b[38;5;124m\"\u001b[39m\u001b[38;5;124mUsername: \u001b[39m\u001b[38;5;132;01m{\u001b[39;00musername\u001b[38;5;132;01m}\u001b[39;00m\u001b[38;5;124m, Password: \u001b[39m\u001b[38;5;132;01m{\u001b[39;00mpassword\u001b[38;5;132;01m}\u001b[39;00m\u001b[38;5;124m\"\u001b[39m:\n",
      "File \u001b[1;32mc:\\Users\\rajat\\AppData\\Local\\Programs\\Python\\Python312\\Lib\\site-packages\\IPython\\core\\interactiveshell.py:324\u001b[0m, in \u001b[0;36m_modified_open\u001b[1;34m(file, *args, **kwargs)\u001b[0m\n\u001b[0;32m    317\u001b[0m \u001b[38;5;28;01mif\u001b[39;00m file \u001b[38;5;129;01min\u001b[39;00m {\u001b[38;5;241m0\u001b[39m, \u001b[38;5;241m1\u001b[39m, \u001b[38;5;241m2\u001b[39m}:\n\u001b[0;32m    318\u001b[0m     \u001b[38;5;28;01mraise\u001b[39;00m \u001b[38;5;167;01mValueError\u001b[39;00m(\n\u001b[0;32m    319\u001b[0m         \u001b[38;5;124mf\u001b[39m\u001b[38;5;124m\"\u001b[39m\u001b[38;5;124mIPython won\u001b[39m\u001b[38;5;124m'\u001b[39m\u001b[38;5;124mt let you open fd=\u001b[39m\u001b[38;5;132;01m{\u001b[39;00mfile\u001b[38;5;132;01m}\u001b[39;00m\u001b[38;5;124m by default \u001b[39m\u001b[38;5;124m\"\u001b[39m\n\u001b[0;32m    320\u001b[0m         \u001b[38;5;124m\"\u001b[39m\u001b[38;5;124mas it is likely to crash IPython. If you know what you are doing, \u001b[39m\u001b[38;5;124m\"\u001b[39m\n\u001b[0;32m    321\u001b[0m         \u001b[38;5;124m\"\u001b[39m\u001b[38;5;124myou can use builtins\u001b[39m\u001b[38;5;124m'\u001b[39m\u001b[38;5;124m open.\u001b[39m\u001b[38;5;124m\"\u001b[39m\n\u001b[0;32m    322\u001b[0m     )\n\u001b[1;32m--> 324\u001b[0m \u001b[38;5;28;01mreturn\u001b[39;00m \u001b[43mio_open\u001b[49m\u001b[43m(\u001b[49m\u001b[43mfile\u001b[49m\u001b[43m,\u001b[49m\u001b[43m \u001b[49m\u001b[38;5;241;43m*\u001b[39;49m\u001b[43margs\u001b[49m\u001b[43m,\u001b[49m\u001b[43m \u001b[49m\u001b[38;5;241;43m*\u001b[39;49m\u001b[38;5;241;43m*\u001b[39;49m\u001b[43mkwargs\u001b[49m\u001b[43m)\u001b[49m\n",
      "\u001b[1;31mFileNotFoundError\u001b[0m: [Errno 2] No such file or directory: 'user_credentials.txt'"
     ]
    }
   ],
   "source": [
    "from registration import *\n",
    "\n",
    "def check_credentials(username, password):\n",
    "    with open(\"user_credentials.txt\", \"r\") as file:\n",
    "        for line in file:\n",
    "            if line.strip() == f\"Username: {username}, Password: {password}\":\n",
    "                return True\n",
    "    return False\n",
    "\n",
    "def upload_resume(username):\n",
    "        resume_filename = input(\"Enter the filename of your resume (in txt format): \")\n",
    "        try:\n",
    "            with open(resume_filename, 'r') as resume_file:\n",
    "                resume_content = resume_file.read()\n",
    "            # Save the resume content to a file named after the username\n",
    "            user_resume_filename = f\"{username}_resume.txt\"\n",
    "            with open(user_resume_filename, 'w') as user_resume_file:\n",
    "                user_resume_file.write(resume_content)\n",
    "            print(\"Resume uploaded successfully!\")\n",
    "        except FileNotFoundError:\n",
    "            print(\"File not found. Please make sure you entered the correct filename.\")\n",
    "\n",
    "def main():\n",
    "    print('Welcome to Fitness Management System')\n",
    "    print()\n",
    "    reg1 = registration()\n",
    "    print()\n",
    "    u1, p1 = reg1.sign_up()\n",
    "\n",
    "    # Check if the user already exists while signing up\n",
    "    if check_credentials(u1, p1):\n",
    "        print(\"User already exists. Please log in.\")\n",
    "    else:\n",
    "        # Write new user credentials to file\n",
    "        with open(\"user_credentials.txt\", \"a\") as file:\n",
    "            file.write(f'Username: {u1}, Password: {p1}\\n')\n",
    "        print('Username = ', u1)\n",
    "        print('Password = ', p1)\n",
    "\n",
    "    # Now, let's try logging in\n",
    "    username, password = reg1.log_in(u1, p1)\n",
    "    if check_credentials(username, password):\n",
    "        print(\"Login Successful\")\n",
    "        option = input(\"Enter '1' to upload your resume: \")\n",
    "        if option == '1':\n",
    "            upload_resume(username)\n",
    "    else:\n",
    "        print(\"Login Failed\")\n",
    "\n",
    "if _name_ == \"_main_\":\n",
    "    main()\n"
   ]
  },
  {
   "cell_type": "code",
   "execution_count": null,
   "metadata": {},
   "outputs": [],
   "source": []
  }
 ],
 "metadata": {
  "kernelspec": {
   "display_name": "Python 3",
   "language": "python",
   "name": "python3"
  },
  "language_info": {
   "codemirror_mode": {
    "name": "ipython",
    "version": 3
   },
   "file_extension": ".py",
   "mimetype": "text/x-python",
   "name": "python",
   "nbconvert_exporter": "python",
   "pygments_lexer": "ipython3",
   "version": "3.12.2"
  }
 },
 "nbformat": 4,
 "nbformat_minor": 2
}
